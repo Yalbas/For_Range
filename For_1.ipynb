{
  "nbformat": 4,
  "nbformat_minor": 0,
  "metadata": {
    "colab": {
      "provenance": [],
      "authorship_tag": "ABX9TyNaJf4NNEAFI0wIQLDihZt8",
      "include_colab_link": true
    },
    "kernelspec": {
      "name": "python3",
      "display_name": "Python 3"
    },
    "language_info": {
      "name": "python"
    }
  },
  "cells": [
    {
      "cell_type": "markdown",
      "metadata": {
        "id": "view-in-github",
        "colab_type": "text"
      },
      "source": [
        "<a href=\"https://colab.research.google.com/github/Yalbas/For_Range/blob/main/For_1.ipynb\" target=\"_parent\"><img src=\"https://colab.research.google.com/assets/colab-badge.svg\" alt=\"Open In Colab\"/></a>"
      ]
    },
    {
      "cell_type": "code",
      "execution_count": 7,
      "metadata": {
        "colab": {
          "base_uri": "https://localhost:8080/"
        },
        "id": "8ZHv_gijSC40",
        "outputId": "23e139ee-0ef3-427d-faec-911f80725e64"
      },
      "outputs": [
        {
          "output_type": "stream",
          "name": "stdout",
          "text": [
            "Bienvenidos a google colaboratory\n",
            "La suma es 55\n"
          ]
        }
      ],
      "source": [
        "print(\"Bienvenidos a google colaboratory\")\n",
        "\n",
        "# Programa numero. 1 instruccion for\n",
        "# Mostrar la suma de los 10 primero numeros naturales\n",
        "\n",
        "# Input\n",
        "\n",
        "# Processing\n",
        "suma = 0\n",
        "for i in range (1,11):\n",
        "  suma = suma + i\n",
        "\n",
        "# Output\n",
        "print(\"La suma es \" + str (suma))"
      ]
    },
    {
      "cell_type": "markdown",
      "source": [
        "Uso del range\n",
        "Uno de las iteraciones mas comunes que se realizan, es la de iterar un número entre por ejemplo 0 y n. Si ya programas, estoy seguro de que estas cansado de escribir esto, aunque sea en otro lenguaje. Pongamos que queremos iterar una variable i de 0 a 5. Haciendo uso de lo que hemos visto anteriormente, podríamos hacer lo siguiente."
      ],
      "metadata": {
        "id": "UlmH8eqfVRUM"
      }
    },
    {
      "cell_type": "code",
      "source": [
        "for i in (0, 1, 2, 3, 4, 5):\n",
        "    print(i) #0, 1, 2, 3, 4, 5"
      ],
      "metadata": {
        "id": "zRk4Fcz7Vhxl"
      },
      "execution_count": null,
      "outputs": []
    },
    {
      "cell_type": "markdown",
      "source": [
        "Se trata de una solución que cumple con nuestro requisito. El contenido después del in se trata de una clase que como ya hemos visto antes, es iterable, y es de hecho una tupla. Sin embargo, hay otras formas de hacer esto en Python, haciendo uso del range()."
      ],
      "metadata": {
        "id": "QP0PqX9SVlKf"
      }
    },
    {
      "cell_type": "code",
      "source": [
        "for i in range(6):\n",
        "    print(i) #0, 1, 2, 3, 4, 5"
      ],
      "metadata": {
        "id": "tpte_ax5VowJ"
      },
      "execution_count": null,
      "outputs": []
    },
    {
      "cell_type": "markdown",
      "source": [
        "El range() genera una secuencia de números que van desde 0 por defecto hasta el número que se pasa como parámetro menos 1. En realidad, se pueden pasar hasta tres parámetros separados por coma, donde el primer es el inicio de la secuencia, el segundo el final y el tercero el salto que se desea entre números. Por defecto se empieza en 0 y el salto es de 1."
      ],
      "metadata": {
        "id": "f_Oh3EF3Vq4p"
      }
    },
    {
      "cell_type": "code",
      "source": [
        "#range(inicio, fin, salto)"
      ],
      "metadata": {
        "id": "dpxvjZq3VuaG"
      },
      "execution_count": null,
      "outputs": []
    },
    {
      "cell_type": "markdown",
      "source": [
        "Por lo tanto, si llamamos a range() con (5,20,2), se generarán números de 5 a 20 de dos en dos. Un truco es que el range() se puede convertir en list."
      ],
      "metadata": {
        "id": "bBQTvgYbVzy0"
      }
    },
    {
      "cell_type": "code",
      "source": [
        "print(list(range(5, 20, 2)))"
      ],
      "metadata": {
        "id": "fUxyeBkRV59i"
      },
      "execution_count": null,
      "outputs": []
    },
    {
      "cell_type": "markdown",
      "source": [
        "Y mezclándolo con el for, podemos hacer lo siguiente."
      ],
      "metadata": {
        "id": "gaUCon_2WC6u"
      }
    },
    {
      "cell_type": "code",
      "source": [
        "for i in range(5, 20, 2):\n",
        "    print(i) #5,7,9,11,13,15,17,19"
      ],
      "metadata": {
        "id": "_CkzbZ05WJ5T"
      },
      "execution_count": null,
      "outputs": []
    },
    {
      "cell_type": "markdown",
      "source": [
        "Se pueden generar también secuencias inversas, empezando por un número mayor y terminando en uno menor, pero para ello el salto deberá ser negativo."
      ],
      "metadata": {
        "id": "VZDqr5a3WSKd"
      }
    },
    {
      "cell_type": "code",
      "source": [
        "for i in range (5, 0, -1):\n",
        "    print(i) #5,4,3,2,1"
      ],
      "metadata": {
        "id": "SaF4exmPWUnG"
      },
      "execution_count": null,
      "outputs": []
    }
  ]
}